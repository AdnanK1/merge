{
 "cells": [
  {
   "cell_type": "code",
   "execution_count": null,
   "metadata": {},
   "outputs": [],
   "source": [
    "import pandas as pd\n",
    "from scipy.spatial.distance import cityblock\n",
    "\n",
    "# Create a sample DataFrame\n",
    "data = {'Feature1': [2, 4, 6, 8],\n",
    "        'Feature2': [3, 6, 9, 12]}\n",
    "df = pd.DataFrame(data)\n",
    "\n",
    "# Select two rows to calculate the Manhattan distance between\n",
    "row1 = df.loc[0]\n",
    "row2 = df.loc[1]\n",
    "\n",
    "# Calculate Manhattan distance\n",
    "manhattan_distance = cityblock(row1, row2)\n",
    "\n",
    "print(\"Manhattan distance:\", manhattan_distance)"
   ]
  }
 ],
 "metadata": {
  "language_info": {
   "name": "python"
  },
  "orig_nbformat": 4
 },
 "nbformat": 4,
 "nbformat_minor": 2
}
